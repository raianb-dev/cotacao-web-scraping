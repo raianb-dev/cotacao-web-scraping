{
  "nbformat": 4,
  "nbformat_minor": 0,
  "metadata": {
    "colab": {
      "name": "cotacao-moeda.ipynb",
      "provenance": [],
      "collapsed_sections": [],
      "authorship_tag": "ABX9TyOxmwDiPZBan6Db+STx6XPR"
    },
    "kernelspec": {
      "display_name": "Python 3",
      "name": "python3"
    },
    "language_info": {
      "name": "python"
    }
  },
  "cells": [
    {
      "cell_type": "code",
      "metadata": {
        "id": "ufZA3or3zQjO"
      },
      "source": [
        "import requests\n",
        "import json\n",
        "import pandas as pd\n",
        "import matplotlib.pyplot as plt"
      ],
      "execution_count": 2,
      "outputs": []
    },
    {
      "cell_type": "code",
      "metadata": {
        "colab": {
          "base_uri": "https://localhost:8080/"
        },
        "id": "Ed6OrHKDzUWe",
        "outputId": "19c73925-cbc7-44c0-d1d5-e12c0895c27e"
      },
      "source": [
        "cotacoes = requests.get('https://economia.awesomeapi.com.br/last/USD-BRL,EUR-BRL,BTC-BRL')\n",
        "cotacoes = cotacoes.json()\n",
        "cotacao_dolar = cotacoes['USDBRL'][\"bid\"]\n",
        "print(cotacao_dolar)"
      ],
      "execution_count": 3,
      "outputs": [
        {
          "output_type": "stream",
          "text": [
            "5.2244\n"
          ],
          "name": "stdout"
        }
      ]
    },
    {
      "cell_type": "code",
      "metadata": {
        "colab": {
          "base_uri": "https://localhost:8080/"
        },
        "id": "cKo7ZiPTCiX4",
        "outputId": "10b3a81c-dadf-4d22-e6b6-79e5b5d893f4"
      },
      "source": [
        "cotacao_dolar= cotacoes['USDBRL'][\"bid\"]\n",
        "cotacao_euro = cotacoes['EURBRL']['bid']\n",
        "\n",
        "print(type(cotacao_dolar))\n",
        "print(type(cotacao_euro))\n"
      ],
      "execution_count": 4,
      "outputs": [
        {
          "output_type": "stream",
          "text": [
            "<class 'str'>\n",
            "<class 'str'>\n"
          ],
          "name": "stdout"
        }
      ]
    },
    {
      "cell_type": "code",
      "metadata": {
        "colab": {
          "base_uri": "https://localhost:8080/",
          "height": 310
        },
        "id": "QWW4lJ46HwzK",
        "outputId": "f45b9447-de0e-48cc-f956-b41128ae4736"
      },
      "source": [
        "mames = 'EURBRL USDBRL BTCBRL'.split()\n",
        "table = {\n",
        "    'moeda':['EURBRL','USDBRL'],\n",
        "    'cotacao':[f\"{cotacao_euro}\",f\"{cotacao_dolar}\"]\n",
        "}\n",
        "df_n = pd.DataFrame(table)\n",
        "\n",
        "df_n['cotacao'] = df_n['cotacao'].astype(float)\n",
        "#df_n.set_index('moeda').plot(title='Cotação de Moedas', y='cotacao', kind='pie')\n",
        "df_n.plot(x='moeda', y='cotacao', kind='bar')\n",
        "plt.show()"
      ],
      "execution_count": 10,
      "outputs": [
        {
          "output_type": "display_data",
          "data": {
            "image/png": "[encoded data removed]",
            "text/plain": [
              "<Figure size 432x288 with 1 Axes>"
            ]
          },
          "metadata": {
            "tags": [],
            "needs_background": "light"
          }
        }
      ]
    },
    {
      "cell_type": "code",
      "metadata": {
        "id": "xug42ajTTKgI"
      },
      "source": [
        "print(df_n)"
      ],
      "execution_count": null,
      "outputs": []
    }
  ]
}