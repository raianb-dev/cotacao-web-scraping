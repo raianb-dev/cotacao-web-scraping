{
  "nbformat": 4,
  "nbformat_minor": 0,
  "metadata": {
    "colab": {
      "name": "cotacao-moeda.ipynb",
      "provenance": [],
      "collapsed_sections": [],
      "authorship_tag": "ABX9TyOxC2GUIQ1C3i8/55wFN+yC"
    },
    "kernelspec": {
      "display_name": "Python 3",
      "name": "python3"
    },
    "language_info": {
      "name": "python"
    }
  },
  "cells": [
    {
      "cell_type": "code",
      "metadata": {
        "id": "ufZA3or3zQjO"
      },
      "source": [
        "import requests\n",
        "import json\n",
        "import pandas as pd\n",
        "import matplotlib.pyplot as plt"
      ],
      "execution_count": 101,
      "outputs": []
    },
    {
      "cell_type": "code",
      "metadata": {
        "colab": {
          "base_uri": "https://localhost:8080/"
        },
        "id": "Ed6OrHKDzUWe",
        "outputId": "afe34522-8c1c-4afb-813c-864d3d8c905b"
      },
      "source": [
        "cotacoes = requests.get('https://economia.awesomeapi.com.br/last/USD-BRL,EUR-BRL,BTC-BRL')\n",
        "cotacoes = cotacoes.json()\n",
        "cotacao_dolar = cotacoes['USDBRL'][\"bid\"]\n",
        "print(cotacao_dolar)"
      ],
      "execution_count": 102,
      "outputs": [
        {
          "output_type": "stream",
          "text": [
            "5.224\n"
          ],
          "name": "stdout"
        }
      ]
    },
    {
      "cell_type": "code",
      "metadata": {
        "colab": {
          "base_uri": "https://localhost:8080/"
        },
        "id": "cKo7ZiPTCiX4",
        "outputId": "a1cdb7d0-c81b-4a75-bd4a-8ba99e36784b"
      },
      "source": [
        "cotacao_dolar= cotacoes['USDBRL'][\"bid\"]\n",
        "cotacao_euro = cotacoes['EURBRL']['bid']\n",
        "\n",
        "print(type(cotacao_dolar))\n",
        "print(type(cotacao_euro))\n"
      ],
      "execution_count": 103,
      "outputs": [
        {
          "output_type": "stream",
          "text": [
            "<class 'str'>\n",
            "<class 'str'>\n"
          ],
          "name": "stdout"
        }
      ]
    },
    {
      "cell_type": "code",
      "metadata": {
        "colab": {
          "base_uri": "https://localhost:8080/",
          "height": 264
        },
        "id": "QWW4lJ46HwzK",
        "outputId": "e6eb3311-f552-4d8a-fe71-69e5eb4d9b2f"
      },
      "source": [
        "mames = 'EURBRL USDBRL BTCBRL'.split()\n",
        "table = {\n",
        "    'moeda':['EURBRL','USDBRL'],\n",
        "    'cotacao':[f\"{cotacao_euro}\",f\"{cotacao_dolar}\"]\n",
        "}\n",
        "df_n = pd.DataFrame(table)\n",
        "\n",
        "df_n['cotacao'] = df_n['cotacao'].astype(float)\n",
        "df_n.set_index('moeda').plot(title='Cotação de Moedas', y='cotacao', kind='pie')\n",
        "plt.show()"
      ],
      "execution_count": 104,
      "outputs": [
        {
          "output_type": "display_data",
          "data": {
            "image/png": "[encoded data removed]",
            "text/plain": [
              "<Figure size 432x288 with 1 Axes>"
            ]
          },
          "metadata": {
            "tags": []
          }
        }
      ]
    },
    {
      "cell_type": "code",
      "metadata": {
        "colab": {
          "base_uri": "https://localhost:8080/"
        },
        "id": "xug42ajTTKgI",
        "outputId": "c6d34d32-20cc-4ede-8e87-bbc51b26f38a"
      },
      "source": [
        "print(df_n)"
      ],
      "execution_count": 105,
      "outputs": [
        {
          "output_type": "stream",
          "text": [
            "    moeda  cotacao\n",
            "0  EURBRL   6.3577\n",
            "1  USDBRL   5.2240\n"
          ],
          "name": "stdout"
        }
      ]
    }
  ]
}